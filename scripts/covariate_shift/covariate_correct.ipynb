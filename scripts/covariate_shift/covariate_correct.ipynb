{
 "cells": [
  {
   "cell_type": "markdown",
   "metadata": {},
   "source": [
    "# Comparing Train and Test Sets\n",
    "An exploration on covariance shift in the Santander Value Prediction datasets"
   ]
  },
  {
   "cell_type": "code",
   "execution_count": 5,
   "metadata": {},
   "outputs": [],
   "source": [
    "# Load libraries:\n",
    "import warnings\n",
    "warnings.filterwarnings('ignore')\n",
    "\n",
    "import numpy as np\n",
    "import pandas as pd\n",
    "import pickle as pkl\n",
    "\n",
    "import time\n",
    "import h5py\n",
    "\n",
    "from catboost import CatBoostClassifier\n",
    "\n",
    "from sklearn.model_selection import KFold\n",
    "\n",
    "from sklearn.ensemble import RandomForestClassifier\n",
    "from sklearn.ensemble import GradientBoostingClassifier"
   ]
  },
  {
   "cell_type": "markdown",
   "metadata": {},
   "source": [
    "## Helper Functions:"
   ]
  },
  {
   "cell_type": "code",
   "execution_count": 2,
   "metadata": {},
   "outputs": [],
   "source": [
    "# Load h5py file\n",
    "def loadh5(fname, dname):\n",
    "    h5f = h5py.File(fname, 'r')\n",
    "    data = h5f[dname][:]\n",
    "    h5f.close()\n",
    "    return data"
   ]
  },
  {
   "cell_type": "code",
   "execution_count": 3,
   "metadata": {},
   "outputs": [],
   "source": [
    "# Load pickle file\n",
    "def loadpickle(fname):\n",
    "    with open(fname, 'rb') as handle:\n",
    "        data = pkl.load(handle)\n",
    "    return data"
   ]
  },
  {
   "cell_type": "code",
   "execution_count": 4,
   "metadata": {},
   "outputs": [],
   "source": [
    "# Function for loading data\n",
    "def load_vanilla(debug=False):\n",
    "    '''\n",
    "    Function for loading data\n",
    "    Input: debug=False if full dataset is desired\n",
    "    '''\n",
    "    data_path = '../../data/'\n",
    "    train_dname = 'train_s0'\n",
    "    test_dname = 'test_s0'\n",
    "    f_ext = '_vanilla.h5'\n",
    "    \n",
    "    print 'Loading Stage 0 vanilla train and test datasets...'\n",
    "    # Load h5py data\n",
    "    train_data = loadh5(data_path + train_dname + f_ext, train_dname)\n",
    "    test_data = loadh5(data_path + test_dname + f_ext, test_dname)\n",
    "    # Load dataframe indexes\n",
    "    train_idx = loadpickle(data_path + 'train_idx.pkl')\n",
    "    test_idx = loadpickle(data_path + 'test_idx.pkl')\n",
    "    # Load dataframe column names\n",
    "    train_cols = loadpickle(data_path + 'train_cols.pkl')\n",
    "    test_cols = loadpickle(data_path + 'test_cols.pkl')\n",
    "    # Create dataframes\n",
    "    train_df = pd.DataFrame(data=train_data, index=train_idx, columns=train_cols)\n",
    "    test_df = pd.DataFrame(data=test_data, index=test_idx, columns=test_cols)\n",
    "    \n",
    "    if debug:\n",
    "        return \n",
    "    \n",
    "    return train_df, test_df"
   ]
  },
  {
   "cell_type": "markdown",
   "metadata": {},
   "source": [
    "## Main Script:"
   ]
  },
  {
   "cell_type": "code",
   "execution_count": null,
   "metadata": {},
   "outputs": [],
   "source": [
    "# Load data\n",
    "load_start = time.time()\n",
    "\n",
    "\n",
    "print 'Loading completed in %s seconds'%(time.time()-load_start)"
   ]
  },
  {
   "cell_type": "code",
   "execution_count": null,
   "metadata": {},
   "outputs": [],
   "source": []
  }
 ],
 "metadata": {
  "kernelspec": {
   "display_name": "Python 2",
   "language": "python",
   "name": "python2"
  },
  "language_info": {
   "codemirror_mode": {
    "name": "ipython",
    "version": 2
   },
   "file_extension": ".py",
   "mimetype": "text/x-python",
   "name": "python",
   "nbconvert_exporter": "python",
   "pygments_lexer": "ipython2",
   "version": "2.7.14"
  }
 },
 "nbformat": 4,
 "nbformat_minor": 2
}
