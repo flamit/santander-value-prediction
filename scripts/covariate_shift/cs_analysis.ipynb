{
 "cells": [
  {
   "cell_type": "markdown",
   "metadata": {},
   "source": [
    "# Analysis of Covariate Shift Tuning\n",
    "Two major hyperparameters to training KLIEP weights are:\n",
    "* The Gaussian width (a hyperparamter of the Gaussian kernel distance metric)\n",
    "* The number of test points selected as kernel centers\n",
    "\n",
    "These two hyperparamters were tested in a grid search fashion and various aspects these trained models will be explored within this notebook. "
   ]
  },
  {
   "cell_type": "code",
   "execution_count": null,
   "metadata": {},
   "outputs": [],
   "source": [
    "# Load libraries\n",
    "import pandas as pd\n",
    "import numpy as np\n",
    "\n",
    "import pickle\n",
    "import os\n",
    "import pdb\n",
    "\n",
    "import matplotlib.pyplot as plt"
   ]
  },
  {
   "cell_type": "markdown",
   "metadata": {},
   "source": [
    "## Helper Functions"
   ]
  },
  {
   "cell_type": "code",
   "execution_count": null,
   "metadata": {},
   "outputs": [],
   "source": [
    "# Function for loading pickle files\n",
    "def load_pickle(fname):\n",
    "    with open(fname, 'rb') as handle:\n",
    "        return pickle.load(handle)"
   ]
  },
  {
   "cell_type": "markdown",
   "metadata": {},
   "source": [
    "## Main Script"
   ]
  },
  {
   "cell_type": "code",
   "execution_count": null,
   "metadata": {},
   "outputs": [],
   "source": [
    "# Load data\n",
    "data_path = './full_cs_weights_v1/'\n",
    "# Keys for separating by number of kernels\n",
    "kernel_vals = [100, 250, 500, 750, 1000]\n",
    "kernel_keys = ['numk%s.'%kernel_vals[i] for i in range(len(kernel_vals))]\n",
    "results = [[] for i in range(len(kernel_vals))]\n",
    "for f in sorted(os.listdir(data_path)):\n",
    "    for idx, key in enumerate(kernel_keys):\n",
    "        if key in f:\n",
    "            results[idx].append(load_pickle(data_path + f))"
   ]
  },
  {
   "cell_type": "markdown",
   "metadata": {},
   "source": [
    "### Impact of Gaussian Width"
   ]
  },
  {
   "cell_type": "code",
   "execution_count": null,
   "metadata": {},
   "outputs": [],
   "source": [
    "# Function for plotting KLIEP weights for various gaussian widths\n",
    "def plot_gw(results, start, end):\n",
    "    # Sort results by gaussian width\n",
    "    sorted_results = sorted(results, key=lambda x: x['width'])\n",
    "    plt.figure(figsize=(12, 7))\n",
    "    xaxis = list(range(start, end))\n",
    "    colors = plt.cm.jet(np.linspace(0,1,len(results)))\n",
    "    for idx, r in enumerate(sorted_results):\n",
    "        plt.scatter(xaxis, r['weights'][start:end], c=colors[idx], label=str(r['width']), s=10)\n",
    "    plt.xlabel('Sample')\n",
    "    plt.ylabel('Weight')\n",
    "    plt.title('Effect of Varying Gaussian Width for %s Kernels'%r['num_kernels'])\n",
    "    plt.legend(loc='lower right')\n",
    "    plt.savefig('./images/gw_%snk.png'%r['num_kernels'])\n",
    "    plt.show()\n",
    "    return None"
   ]
  },
  {
   "cell_type": "code",
   "execution_count": null,
   "metadata": {},
   "outputs": [],
   "source": [
    "start = 50\n",
    "end = 75"
   ]
  },
  {
   "cell_type": "code",
   "execution_count": null,
   "metadata": {
    "scrolled": false
   },
   "outputs": [],
   "source": [
    "for r in results:\n",
    "    plot_gw(r, start, end)"
   ]
  },
  {
   "cell_type": "markdown",
   "metadata": {},
   "source": [
    "### Impact of Number of Kernels"
   ]
  },
  {
   "cell_type": "code",
   "execution_count": null,
   "metadata": {},
   "outputs": [],
   "source": [
    "plt.figure(figsize=(12, 7))\n",
    "colors = plt.cm.jet(np.linspace(0, 1, len(results)))\n",
    "ymin = 999999\n",
    "ymax = -999999\n",
    "for idx, r in enumerate(results):\n",
    "    x = np.array([e['width'] for e in r])\n",
    "    y = np.array([e['j_value'] for e in r])\n",
    "    ymin = np.minimum(ymin, np.min(y))\n",
    "    ymax = np.maximum(ymax, np.max(y))\n",
    "    plt.scatter(x, y, c=colors[idx], label=str(kernel_vals[idx]), s=15)\n",
    "plt.ylim([ymin*.9, ymax*1.1])\n",
    "plt.xlabel('Gaussian Width')\n",
    "plt.ylabel('J Value (Averaged log Importances)')\n",
    "plt.title('Gaussian Width vs. J Value')\n",
    "plt.legend(loc='upper right')\n",
    "plt.savefig('./images/gw_vs_jval.png')\n",
    "plt.show()"
   ]
  },
  {
   "cell_type": "code",
   "execution_count": null,
   "metadata": {},
   "outputs": [],
   "source": []
  }
 ],
 "metadata": {
  "kernelspec": {
   "display_name": "Python 2",
   "language": "python",
   "name": "python2"
  },
  "language_info": {
   "codemirror_mode": {
    "name": "ipython",
    "version": 2
   },
   "file_extension": ".py",
   "mimetype": "text/x-python",
   "name": "python",
   "nbconvert_exporter": "python",
   "pygments_lexer": "ipython2",
   "version": "2.7.14"
  }
 },
 "nbformat": 4,
 "nbformat_minor": 2
}
