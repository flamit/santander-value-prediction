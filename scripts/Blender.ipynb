{
 "cells": [
  {
   "cell_type": "markdown",
   "metadata": {},
   "source": [
    "# Blender\n",
    "This notebook blends my own personal models to attempt to create better-generalized models"
   ]
  },
  {
   "cell_type": "code",
   "execution_count": null,
   "metadata": {},
   "outputs": [],
   "source": [
    "# Load libraries\n",
    "import numpy as np\n",
    "import pandas as pd\n",
    "\n",
    "import pickle as pkl"
   ]
  },
  {
   "cell_type": "code",
   "execution_count": null,
   "metadata": {},
   "outputs": [],
   "source": [
    "!ls ../submissions/"
   ]
  },
  {
   "cell_type": "code",
   "execution_count": null,
   "metadata": {},
   "outputs": [],
   "source": [
    "submit_path = '../submissions/'\n",
    "fnames = ['lgb_0v0_submit_1.44.csv',\n",
    "          'encat_0v1_submit_1.40.csv',\n",
    "          'xgbpipe_0v2_submit_1.39.csv']\n",
    "submits = [pd.read_csv(submit_path+fname) for fname in fnames]"
   ]
  },
  {
   "cell_type": "code",
   "execution_count": null,
   "metadata": {},
   "outputs": [],
   "source": [
    "testidx_path = '../data/test_idx.pkl'\n",
    "with open(testidx_path, 'rb') as handle:\n",
    "    test_idx = pkl.load(handle)"
   ]
  },
  {
   "cell_type": "code",
   "execution_count": null,
   "metadata": {},
   "outputs": [],
   "source": [
    "mean_submit = np.zeros(test_idx.shape[0])\n",
    "for sub in submits:\n",
    "    mean_submit += sub.target.values\n",
    "mean_submit /= len(submits)"
   ]
  },
  {
   "cell_type": "code",
   "execution_count": null,
   "metadata": {},
   "outputs": [],
   "source": [
    "submit_path = submit_path + 'blend_s0_n012_1.38.csv'\n",
    "submission = pd.DataFrame()\n",
    "submission['ID'] = test_idx\n",
    "submission['target'] = mean_submit\n",
    "submission.to_csv(submit_path, index=False)"
   ]
  },
  {
   "cell_type": "code",
   "execution_count": null,
   "metadata": {},
   "outputs": [],
   "source": []
  }
 ],
 "metadata": {
  "kernelspec": {
   "display_name": "Python 2",
   "language": "python",
   "name": "python2"
  },
  "language_info": {
   "codemirror_mode": {
    "name": "ipython",
    "version": 2
   },
   "file_extension": ".py",
   "mimetype": "text/x-python",
   "name": "python",
   "nbconvert_exporter": "python",
   "pygments_lexer": "ipython2",
   "version": "2.7.14"
  }
 },
 "nbformat": 4,
 "nbformat_minor": 2
}
