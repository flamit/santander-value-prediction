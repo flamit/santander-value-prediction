{
 "cells": [
  {
   "cell_type": "code",
   "execution_count": null,
   "metadata": {},
   "outputs": [],
   "source": [
    "# Load libraries\n",
    "import numpy as np\n",
    "import pandas as pd\n",
    "\n",
    "import pickle as pkl"
   ]
  },
  {
   "cell_type": "code",
   "execution_count": null,
   "metadata": {},
   "outputs": [],
   "source": [
    "# Function for loading leaks\n",
    "def load_leaks(leak_val):\n",
    "    leak_dir = './time_series/stats/'\n",
    "    \n",
    "    train_leak_loc = leak_dir + 'train_leak_%s.csv'%leak_val\n",
    "    train_leak = pd.read_csv(train_leak_loc).compiled_leak\n",
    "    test_leak_loc = leak_dir + 'test_leak_%s.csv'%leak_val\n",
    "    test_leak = pd.read_csv(test_leak_loc).compiled_leak\n",
    "    \n",
    "    return train_leak, test_leak"
   ]
  },
  {
   "cell_type": "code",
   "execution_count": null,
   "metadata": {},
   "outputs": [],
   "source": [
    "# Load leaks\n",
    "leak_val = 38\n",
    "print '\\nLoading train and test leaks...'\n",
    "train_leak, test_leak = load_leaks(leak_val)\n",
    "print 'Nonzero elements in train:', np.count_nonzero(train_leak)\n",
    "print 'Nonzero elements in test:', np.count_nonzero(test_leak)"
   ]
  },
  {
   "cell_type": "code",
   "execution_count": null,
   "metadata": {},
   "outputs": [],
   "source": [
    "!ls ../submissions/"
   ]
  },
  {
   "cell_type": "code",
   "execution_count": null,
   "metadata": {},
   "outputs": [],
   "source": [
    "file_dir = '../submissions/'\n",
    "files = [\n",
    "    'tstest_cat_2v3_lag38_fullfeat_submit.csv',\n",
    "    'tstest_lgb_2v2_lag38_fullfeat_submit.csv',\n",
    "    'tstest_lgb_2v2_lag38_bad_submit_0.521.csv',\n",
    "    'tstest_lgb_2v2_lag36_submit_0.52.csv',\n",
    "    'ts_ensemble_v0.csv'\n",
    "]\n",
    "weights = [1.15, 1.15, 1, 0.5, 0.8]"
   ]
  },
  {
   "cell_type": "code",
   "execution_count": null,
   "metadata": {},
   "outputs": [],
   "source": [
    "testidx_path = '../data/test_idx.pkl'\n",
    "with open(testidx_path, 'rb') as handle:\n",
    "    test_idx = pkl.load(handle)"
   ]
  },
  {
   "cell_type": "code",
   "execution_count": null,
   "metadata": {},
   "outputs": [],
   "source": [
    "submissions = [pd.read_csv(file_dir+f) for f in files]"
   ]
  },
  {
   "cell_type": "code",
   "execution_count": null,
   "metadata": {},
   "outputs": [],
   "source": [
    "submit_compile = np.zeros(test_idx.shape[0])\n",
    "for i, df in enumerate(submissions):\n",
    "    submit_compile += weights[i]*df['target'].values\n",
    "submit_compile /= np.sum(weights)"
   ]
  },
  {
   "cell_type": "code",
   "execution_count": null,
   "metadata": {},
   "outputs": [],
   "source": [
    "sub_df = pd.DataFrame()\n",
    "sub_df['ID'] = test_idx\n",
    "sub_df['target'] = submit_compile\n",
    "sub_df.head(12)"
   ]
  },
  {
   "cell_type": "code",
   "execution_count": null,
   "metadata": {},
   "outputs": [],
   "source": [
    "sub_name = '../submissions/ts_ensemble_v2.csv'\n",
    "sub_df.to_csv(sub_name, index=False)"
   ]
  },
  {
   "cell_type": "code",
   "execution_count": null,
   "metadata": {},
   "outputs": [],
   "source": [
    "pd.read_csv(sub_name).head()"
   ]
  },
  {
   "cell_type": "code",
   "execution_count": null,
   "metadata": {},
   "outputs": [],
   "source": [
    "def root_mean_square_log_diff(sub1, sub2):\n",
    "    return np.sqrt(np.mean(np.square(np.subtract(np.log1p(sub1), np.log1p(sub2)))))\n",
    "\n",
    "def sum_abs_diff(sub1, sub2):\n",
    "    return np.sum(np.abs(np.subtract(sub1, sub2)))\n",
    "\n",
    "fri_df = pd.read_csv('../submissions/tstest_lgb_2v2_lag36_submit_0.52.csv')\n",
    "sat_df = pd.read_csv('../submissions/tstest_lgb_2v2_lag38_bad_submit_0.52.csv')\n",
    "sun_df = pd.read_csv('../submissions/tstest_lgb_2v2_lag38_good_submit.csv')\n",
    "\n",
    "right_idx = np.where(test_leak!=0)[0]\n",
    "wrong_idx = np.where(test_leak==0)[0]\n",
    "\n",
    "sub_right = sub_df['target'].values[right_idx]\n",
    "sun_right = sun_df['target'].values[right_idx]\n",
    "fri_right = fri_df['target'].values[right_idx]\n",
    "sat_right = sat_df['target'].values[right_idx]\n",
    "\n",
    "sub_wrong = sub_df['target'].values[wrong_idx]\n",
    "sun_wrong = sun_df['target'].values[wrong_idx]\n",
    "fri_wrong = fri_df['target'].values[wrong_idx]\n",
    "sat_wrong = sat_df['target'].values[wrong_idx]"
   ]
  },
  {
   "cell_type": "code",
   "execution_count": null,
   "metadata": {},
   "outputs": [],
   "source": [
    "print 'Sum abs diff:'\n",
    "print sum_abs_diff(sub_right, sun_right)\n",
    "print sum_abs_diff(sub_wrong, sun_wrong)\n",
    "\n",
    "print '\\nRoot mean square log diff:'\n",
    "print root_mean_square_log_diff(sub_right, sun_right)\n",
    "print root_mean_square_log_diff(sub_wrong, sun_wrong)"
   ]
  }
 ],
 "metadata": {
  "kernelspec": {
   "display_name": "Python 2",
   "language": "python",
   "name": "python2"
  },
  "language_info": {
   "codemirror_mode": {
    "name": "ipython",
    "version": 2
   },
   "file_extension": ".py",
   "mimetype": "text/x-python",
   "name": "python",
   "nbconvert_exporter": "python",
   "pygments_lexer": "ipython2",
   "version": "2.7.14"
  }
 },
 "nbformat": 4,
 "nbformat_minor": 2
}
